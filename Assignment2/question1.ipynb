{
 "cells": [
  {
   "cell_type": "markdown",
   "metadata": {},
   "source": [
    "# Assignment 2"
   ]
  },
  {
   "cell_type": "markdown",
   "metadata": {},
   "source": [
    "## Question"
   ]
  },
  {
   "cell_type": "markdown",
   "metadata": {},
   "source": [
    "In the computational biology field, identifying the correct set of clusters\n",
    "helps to analyze the characteristics of the genes that helps to understand the\n",
    "unknown gene characteristics. Also, finding the correct cluster centers is one\n",
    "of the important steps for getting good results. In this assignment, you need\n",
    "to find the correct clusters for the gene expression dataset.<br /><br />\n",
    "Dataset:- The dataset is related to B-chronic lymphocytic leukemia(BCLL)\n",
    "dataset which you can download from preprocessed_BCLL.txt . <br /><br />\n",
    "a. Apply k-means algorithm on the dataset. Run the k-means algorithm\n",
    "10 times where each time the number of clusters is randomly chosen\n",
    "between 2 to sqrt(N), where N represents the number of datapoints.\n",
    "For each iteration, also report the Silhouette score to understand\n",
    "which is the best number of clusters. Show the answer in the\n",
    "following format<br /><br />\n",
    "####################################################<br /><br />\n",
    "\n",
    "Iteration 1:- No of clusters = ##, Silhouette score= #####<br />\n",
    ". . .<br />\n",
    ". . .<br />\n",
    ". . .<br />\n",
    "Iteration 10:- No of clusters = ##, Silhouette score= #####<br /><br />\n",
    "Please note, try to avoid the same number of clusters. Also plot a graph,\n",
    "where we can understand the change of silhouette score along with cluster\n",
    "centers.<br /><br />\n",
    "\n",
    "b. From the previous question, we understand the best number of cluster\n",
    "centers. So for that particular iteration, show the gene names for each\n",
    "cluster. e.g Suppose the best possible cluster center is 5, then show\n",
    "store the gene names in 5 different files where each file represents\n",
    "each cluster."
   ]
  },
  {
   "cell_type": "markdown",
   "metadata": {},
   "source": [
    "## The Solution"
   ]
  },
  {
   "cell_type": "markdown",
   "metadata": {},
   "source": [
    "### Importing the Libraries"
   ]
  },
  {
   "cell_type": "code",
   "execution_count": 1,
   "metadata": {},
   "outputs": [],
   "source": [
    "import pandas as pd\n",
    "import numpy as np\n",
    "import matplotlib.pyplot as plt\n",
    "from sklearn.cluster import KMeans\n",
    "from sklearn.preprocessing import StandardScaler\n",
    "from sklearn.preprocessing import MinMaxScaler\n",
    "import seaborn as sn\n",
    "from collections import Counter\n",
    "from sklearn.metrics import silhouette_score\n",
    "import random\n",
    "import math\n",
    "import os\n",
    "import shutil"
   ]
  },
  {
   "cell_type": "markdown",
   "metadata": {},
   "source": [
    "### Imported Data File in form of DataFrame"
   ]
  },
  {
   "cell_type": "code",
   "execution_count": 2,
   "metadata": {},
   "outputs": [
    {
     "data": {
      "text/html": [
       "<div>\n",
       "<style scoped>\n",
       "    .dataframe tbody tr th:only-of-type {\n",
       "        vertical-align: middle;\n",
       "    }\n",
       "\n",
       "    .dataframe tbody tr th {\n",
       "        vertical-align: top;\n",
       "    }\n",
       "\n",
       "    .dataframe thead th {\n",
       "        text-align: right;\n",
       "    }\n",
       "</style>\n",
       "<table border=\"1\" class=\"dataframe\">\n",
       "  <thead>\n",
       "    <tr style=\"text-align: right;\">\n",
       "      <th></th>\n",
       "      <th>Gene_ID</th>\n",
       "      <th>Gene_name</th>\n",
       "      <th>feature_1</th>\n",
       "      <th>feature_2</th>\n",
       "      <th>feature_3</th>\n",
       "      <th>feature_4</th>\n",
       "      <th>feature_5</th>\n",
       "      <th>feature_6</th>\n",
       "      <th>feature_7</th>\n",
       "      <th>feature_8</th>\n",
       "      <th>...</th>\n",
       "      <th>feature_12</th>\n",
       "      <th>feature_13</th>\n",
       "      <th>feature_14</th>\n",
       "      <th>feature_15</th>\n",
       "      <th>feature_16</th>\n",
       "      <th>feature_17</th>\n",
       "      <th>feature_18</th>\n",
       "      <th>feature_19</th>\n",
       "      <th>feature_20</th>\n",
       "      <th>feature_21</th>\n",
       "    </tr>\n",
       "  </thead>\n",
       "  <tbody>\n",
       "    <tr>\n",
       "      <th>0</th>\n",
       "      <td>1009_at</td>\n",
       "      <td>HINT1</td>\n",
       "      <td>1145.5</td>\n",
       "      <td>1014.9</td>\n",
       "      <td>1103.1</td>\n",
       "      <td>850.4</td>\n",
       "      <td>886.6</td>\n",
       "      <td>859.3</td>\n",
       "      <td>1228.6</td>\n",
       "      <td>1231.9</td>\n",
       "      <td>...</td>\n",
       "      <td>763.7</td>\n",
       "      <td>1382.4</td>\n",
       "      <td>1008.2</td>\n",
       "      <td>1025.9</td>\n",
       "      <td>1197.0</td>\n",
       "      <td>735.2</td>\n",
       "      <td>865.3</td>\n",
       "      <td>485.0</td>\n",
       "      <td>811.1</td>\n",
       "      <td>783.0</td>\n",
       "    </tr>\n",
       "    <tr>\n",
       "      <th>1</th>\n",
       "      <td>100_g_at</td>\n",
       "      <td>RABGGTA</td>\n",
       "      <td>169.0</td>\n",
       "      <td>200.6</td>\n",
       "      <td>196.3</td>\n",
       "      <td>151.4</td>\n",
       "      <td>167.8</td>\n",
       "      <td>111.3</td>\n",
       "      <td>164.9</td>\n",
       "      <td>240.6</td>\n",
       "      <td>...</td>\n",
       "      <td>277.2</td>\n",
       "      <td>172.7</td>\n",
       "      <td>163.6</td>\n",
       "      <td>194.0</td>\n",
       "      <td>117.1</td>\n",
       "      <td>130.5</td>\n",
       "      <td>164.2</td>\n",
       "      <td>212.2</td>\n",
       "      <td>108.4</td>\n",
       "      <td>114.7</td>\n",
       "    </tr>\n",
       "    <tr>\n",
       "      <th>2</th>\n",
       "      <td>1011_s_at</td>\n",
       "      <td>YWHAE</td>\n",
       "      <td>25.9</td>\n",
       "      <td>31.7</td>\n",
       "      <td>43.3</td>\n",
       "      <td>40.9</td>\n",
       "      <td>40.8</td>\n",
       "      <td>26.7</td>\n",
       "      <td>45.1</td>\n",
       "      <td>62.0</td>\n",
       "      <td>...</td>\n",
       "      <td>12.5</td>\n",
       "      <td>53.6</td>\n",
       "      <td>72.8</td>\n",
       "      <td>59.6</td>\n",
       "      <td>33.3</td>\n",
       "      <td>35.8</td>\n",
       "      <td>45.3</td>\n",
       "      <td>68.0</td>\n",
       "      <td>56.7</td>\n",
       "      <td>39.3</td>\n",
       "    </tr>\n",
       "    <tr>\n",
       "      <th>3</th>\n",
       "      <td>1012_at</td>\n",
       "      <td>KAT2B</td>\n",
       "      <td>28.0</td>\n",
       "      <td>34.4</td>\n",
       "      <td>13.2</td>\n",
       "      <td>28.3</td>\n",
       "      <td>15.7</td>\n",
       "      <td>56.5</td>\n",
       "      <td>35.2</td>\n",
       "      <td>25.0</td>\n",
       "      <td>...</td>\n",
       "      <td>20.4</td>\n",
       "      <td>11.6</td>\n",
       "      <td>15.9</td>\n",
       "      <td>5.9</td>\n",
       "      <td>18.2</td>\n",
       "      <td>28.8</td>\n",
       "      <td>55.0</td>\n",
       "      <td>35.9</td>\n",
       "      <td>25.2</td>\n",
       "      <td>18.8</td>\n",
       "    </tr>\n",
       "    <tr>\n",
       "      <th>4</th>\n",
       "      <td>1013_at</td>\n",
       "      <td>SMAD5</td>\n",
       "      <td>17.2</td>\n",
       "      <td>3.0</td>\n",
       "      <td>6.0</td>\n",
       "      <td>9.9</td>\n",
       "      <td>10.0</td>\n",
       "      <td>16.7</td>\n",
       "      <td>1.5</td>\n",
       "      <td>10.0</td>\n",
       "      <td>...</td>\n",
       "      <td>1.4</td>\n",
       "      <td>6.5</td>\n",
       "      <td>12.3</td>\n",
       "      <td>11.3</td>\n",
       "      <td>9.2</td>\n",
       "      <td>2.1</td>\n",
       "      <td>4.7</td>\n",
       "      <td>1.3</td>\n",
       "      <td>5.4</td>\n",
       "      <td>3.8</td>\n",
       "    </tr>\n",
       "  </tbody>\n",
       "</table>\n",
       "<p>5 rows × 23 columns</p>\n",
       "</div>"
      ],
      "text/plain": [
       "     Gene_ID Gene_name  feature_1  feature_2  feature_3  feature_4  feature_5  \\\n",
       "0    1009_at     HINT1     1145.5     1014.9     1103.1      850.4      886.6   \n",
       "1   100_g_at   RABGGTA      169.0      200.6      196.3      151.4      167.8   \n",
       "2  1011_s_at     YWHAE       25.9       31.7       43.3       40.9       40.8   \n",
       "3    1012_at     KAT2B       28.0       34.4       13.2       28.3       15.7   \n",
       "4    1013_at     SMAD5       17.2        3.0        6.0        9.9       10.0   \n",
       "\n",
       "   feature_6  feature_7  feature_8  ...  feature_12  feature_13  feature_14  \\\n",
       "0      859.3     1228.6     1231.9  ...       763.7      1382.4      1008.2   \n",
       "1      111.3      164.9      240.6  ...       277.2       172.7       163.6   \n",
       "2       26.7       45.1       62.0  ...        12.5        53.6        72.8   \n",
       "3       56.5       35.2       25.0  ...        20.4        11.6        15.9   \n",
       "4       16.7        1.5       10.0  ...         1.4         6.5        12.3   \n",
       "\n",
       "   feature_15  feature_16  feature_17  feature_18  feature_19  feature_20  \\\n",
       "0      1025.9      1197.0       735.2       865.3       485.0       811.1   \n",
       "1       194.0       117.1       130.5       164.2       212.2       108.4   \n",
       "2        59.6        33.3        35.8        45.3        68.0        56.7   \n",
       "3         5.9        18.2        28.8        55.0        35.9        25.2   \n",
       "4        11.3         9.2         2.1         4.7         1.3         5.4   \n",
       "\n",
       "   feature_21  \n",
       "0       783.0  \n",
       "1       114.7  \n",
       "2        39.3  \n",
       "3        18.8  \n",
       "4         3.8  \n",
       "\n",
       "[5 rows x 23 columns]"
      ]
     },
     "execution_count": 2,
     "metadata": {},
     "output_type": "execute_result"
    }
   ],
   "source": [
    "df = pd.read_csv('preprocessed_BCLL.txt', sep=\"\t\", header=None)\n",
    "df = df.drop(columns=[23])\n",
    "df.columns = ['Gene_ID', 'Gene_name', 'feature_1', 'feature_2', 'feature_3', 'feature_4', 'feature_5', 'feature_6', 'feature_7', 'feature_8', 'feature_9', 'feature_10', 'feature_11', 'feature_12', 'feature_13', 'feature_14', 'feature_15', 'feature_16', 'feature_17', 'feature_18', 'feature_19', 'feature_20', 'feature_21']\n",
    "df.head()"
   ]
  },
  {
   "cell_type": "markdown",
   "metadata": {},
   "source": [
    "### Normalizing the Features with Standard Scaler"
   ]
  },
  {
   "cell_type": "code",
   "execution_count": 3,
   "metadata": {},
   "outputs": [],
   "source": [
    "scaler = StandardScaler()\n",
    "df.iloc[:, 2:] = scaler.fit_transform(df.iloc[:, 2:])"
   ]
  },
  {
   "cell_type": "markdown",
   "metadata": {},
   "source": [
    "### Generating a list of 10 random numbers for Number of clusters for 10 Iterations"
   ]
  },
  {
   "cell_type": "code",
   "execution_count": 4,
   "metadata": {},
   "outputs": [
    {
     "data": {
      "text/plain": [
       "[19, 48, 15, 36, 58, 25, 44, 21, 26, 10]"
      ]
     },
     "execution_count": 4,
     "metadata": {},
     "output_type": "execute_result"
    }
   ],
   "source": [
    "numCluster = random.sample(range(2, int(math.sqrt(df.shape[0])) + 1), 10)\n",
    "numCluster"
   ]
  },
  {
   "cell_type": "markdown",
   "metadata": {},
   "source": [
    "### Part a"
   ]
  },
  {
   "cell_type": "markdown",
   "metadata": {},
   "source": [
    "#### Running the k-means clustering for 10 iterations and storing the Silhouette scores"
   ]
  },
  {
   "cell_type": "code",
   "execution_count": 5,
   "metadata": {
    "scrolled": true
   },
   "outputs": [
    {
     "name": "stdout",
     "output_type": "stream",
     "text": [
      "Iteration 1: No of clusters = 19, Silhouette score = 0.5160380871790511\n",
      "Iteration 2: No of clusters = 48, Silhouette score = 0.4899282368360447\n",
      "Iteration 3: No of clusters = 15, Silhouette score = 0.5988259834213245\n",
      "Iteration 4: No of clusters = 36, Silhouette score = 0.4899528667620213\n",
      "Iteration 5: No of clusters = 58, Silhouette score = 0.39478743725146687\n",
      "Iteration 6: No of clusters = 25, Silhouette score = 0.49085214810742134\n",
      "Iteration 7: No of clusters = 44, Silhouette score = 0.4029407867728354\n",
      "Iteration 8: No of clusters = 21, Silhouette score = 0.5173422265924413\n",
      "Iteration 9: No of clusters = 26, Silhouette score = 0.43126214490226383\n",
      "Iteration 10: No of clusters = 10, Silhouette score = 0.6581147347702926\n"
     ]
    }
   ],
   "source": [
    "scores = []\n",
    "for i in range(len(numCluster)):  \n",
    "    kmeans = KMeans(n_clusters=numCluster[i])\n",
    "    kmeans.fit(df.iloc[:, 2:])\n",
    "    labels = kmeans.predict(df.iloc[:, 2:])\n",
    "    counter = Counter(labels)\n",
    "    counter = sorted(counter.items())\n",
    "    # counter\n",
    "\n",
    "    score = silhouette_score(df.iloc[:, 2:], labels, metric='euclidean')\n",
    "    scores.append(score)\n",
    "    print(\"Iteration \" + str(i+1) + \": No of clusters = \" + str(numCluster[i]) + \", Silhouette score = \" + str(score))"
   ]
  },
  {
   "cell_type": "markdown",
   "metadata": {},
   "source": [
    "#### Silhouette scores v/s Number of Clusters"
   ]
  },
  {
   "cell_type": "code",
   "execution_count": 6,
   "metadata": {},
   "outputs": [
    {
     "data": {
      "image/png": "[encoded data removed]",
      "text/plain": [
       "<Figure size 1440x720 with 1 Axes>"
      ]
     },
     "metadata": {
      "needs_background": "light"
     },
     "output_type": "display_data"
    }
   ],
   "source": [
    "%matplotlib inline\n",
    "\n",
    "plt.rcParams['figure.figsize'] = [20,10]\n",
    "plt.scatter(numCluster, scores)\n",
    "plt.xlabel(\"No of clusters\")\n",
    "plt.ylabel(\"Silhouette Score\")\n",
    "plt.show()"
   ]
  },
  {
   "cell_type": "markdown",
   "metadata": {},
   "source": [
    "### Part b"
   ]
  },
  {
   "cell_type": "markdown",
   "metadata": {},
   "source": [
    "#### Running the k-means clustering for the best Silhouette score model"
   ]
  },
  {
   "cell_type": "code",
   "execution_count": 7,
   "metadata": {},
   "outputs": [
    {
     "name": "stdout",
     "output_type": "stream",
     "text": [
      "Best cluster number = 10\n"
     ]
    }
   ],
   "source": [
    "bestModelIndex = scores.index(max(scores))\n",
    "\n",
    "bestClusterNum = numCluster[bestModelIndex]\n",
    "print(\"Best cluster number = \" + str(bestClusterNum))\n",
    "kmeans = KMeans(n_clusters=bestClusterNum)\n",
    "kmeans.fit(df.iloc[:, 2:])\n",
    "labelsBest = kmeans.predict(df.iloc[:, 2:])\n"
   ]
  },
  {
   "cell_type": "markdown",
   "metadata": {},
   "source": [
    "#### Delete the directory of clusters if it exists"
   ]
  },
  {
   "cell_type": "code",
   "execution_count": 8,
   "metadata": {},
   "outputs": [],
   "source": [
    "if os.path.exists('clusters') and os.path.isdir('clusters'):\n",
    "    shutil.rmtree('clusters')"
   ]
  },
  {
   "cell_type": "markdown",
   "metadata": {},
   "source": [
    "#### Splitting the data into separate files according the clusters and storing them in a directory"
   ]
  },
  {
   "cell_type": "code",
   "execution_count": 9,
   "metadata": {},
   "outputs": [],
   "source": [
    "df['label'] = labelsBest\n",
    "\n",
    "dfToSave = df[['Gene_ID', 'Gene_name', 'label']]\n",
    "\n",
    "dataFrameList = []\n",
    "columnsToSave = ['Gene_ID', 'Gene_name']\n",
    "\n",
    "os.mkdir('clusters')\n",
    "\n",
    "for label, dfs in dfToSave.groupby('label'):\n",
    "    dfs[columnsToSave].to_csv('./clusters/cluster_' + str(label) + '.csv', header=True, index=None)"
   ]
  }
 ],
 "metadata": {
  "kernelspec": {
   "display_name": "Python 3",
   "language": "python",
   "name": "python3"
  },
  "language_info": {
   "codemirror_mode": {
    "name": "ipython",
    "version": 3
   },
   "file_extension": ".py",
   "mimetype": "text/x-python",
   "name": "python",
   "nbconvert_exporter": "python",
   "pygments_lexer": "ipython3",
   "version": "3.7.3"
  }
 },
 "nbformat": 4,
 "nbformat_minor": 2
}
