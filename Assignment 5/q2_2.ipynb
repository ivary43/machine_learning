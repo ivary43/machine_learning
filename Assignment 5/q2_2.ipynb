{
 "cells": [
  {
   "cell_type": "code",
   "execution_count": 1,
   "metadata": {},
   "outputs": [],
   "source": [
    "import numpy as np\n",
    "import matplotlib.pyplot as plt\n",
    "import pandas as pd\n",
    "import string\n",
    "from sklearn.model_selection import KFold\n",
    "from sklearn.metrics import classification_report\n",
    "from sklearn.metrics import f1_score, precision_score, recall_score, accuracy_score, confusion_matrix\n",
    "from statistics import mean\n",
    "from collections import Counter\n",
    "from copy import deepcopy\n",
    "import operator\n",
    "from math import log2\n",
    "from sklearn.model_selection import train_test_split, KFold\n",
    "import math\n",
    "from sklearn import preprocessing\n",
    "import random\n",
    "%matplotlib inline"
   ]
  },
  {
   "cell_type": "code",
   "execution_count": 2,
   "metadata": {},
   "outputs": [
    {
     "data": {
      "text/html": [
       "<div>\n",
       "<style scoped>\n",
       "    .dataframe tbody tr th:only-of-type {\n",
       "        vertical-align: middle;\n",
       "    }\n",
       "\n",
       "    .dataframe tbody tr th {\n",
       "        vertical-align: top;\n",
       "    }\n",
       "\n",
       "    .dataframe thead th {\n",
       "        text-align: right;\n",
       "    }\n",
       "</style>\n",
       "<table border=\"1\" class=\"dataframe\">\n",
       "  <thead>\n",
       "    <tr style=\"text-align: right;\">\n",
       "      <th></th>\n",
       "      <th>type</th>\n",
       "      <th>cap_shape</th>\n",
       "      <th>cap_surface</th>\n",
       "      <th>cap_color</th>\n",
       "      <th>bruises</th>\n",
       "      <th>odor</th>\n",
       "      <th>gill_attachment</th>\n",
       "      <th>gill_spacing</th>\n",
       "      <th>gill_size</th>\n",
       "      <th>gill_color</th>\n",
       "      <th>...</th>\n",
       "      <th>stalk_surface_below_ring</th>\n",
       "      <th>stalk_color_above_ring</th>\n",
       "      <th>stalk_color_below_ring</th>\n",
       "      <th>veil_type</th>\n",
       "      <th>veil_color</th>\n",
       "      <th>ring_number</th>\n",
       "      <th>ring_type</th>\n",
       "      <th>spore_print_color</th>\n",
       "      <th>population</th>\n",
       "      <th>habitat</th>\n",
       "    </tr>\n",
       "  </thead>\n",
       "  <tbody>\n",
       "    <tr>\n",
       "      <th>0</th>\n",
       "      <td>p</td>\n",
       "      <td>x</td>\n",
       "      <td>s</td>\n",
       "      <td>n</td>\n",
       "      <td>t</td>\n",
       "      <td>p</td>\n",
       "      <td>f</td>\n",
       "      <td>c</td>\n",
       "      <td>n</td>\n",
       "      <td>k</td>\n",
       "      <td>...</td>\n",
       "      <td>s</td>\n",
       "      <td>w</td>\n",
       "      <td>w</td>\n",
       "      <td>p</td>\n",
       "      <td>w</td>\n",
       "      <td>o</td>\n",
       "      <td>p</td>\n",
       "      <td>k</td>\n",
       "      <td>s</td>\n",
       "      <td>u</td>\n",
       "    </tr>\n",
       "    <tr>\n",
       "      <th>1</th>\n",
       "      <td>e</td>\n",
       "      <td>x</td>\n",
       "      <td>s</td>\n",
       "      <td>y</td>\n",
       "      <td>t</td>\n",
       "      <td>a</td>\n",
       "      <td>f</td>\n",
       "      <td>c</td>\n",
       "      <td>b</td>\n",
       "      <td>k</td>\n",
       "      <td>...</td>\n",
       "      <td>s</td>\n",
       "      <td>w</td>\n",
       "      <td>w</td>\n",
       "      <td>p</td>\n",
       "      <td>w</td>\n",
       "      <td>o</td>\n",
       "      <td>p</td>\n",
       "      <td>n</td>\n",
       "      <td>n</td>\n",
       "      <td>g</td>\n",
       "    </tr>\n",
       "    <tr>\n",
       "      <th>2</th>\n",
       "      <td>e</td>\n",
       "      <td>b</td>\n",
       "      <td>s</td>\n",
       "      <td>w</td>\n",
       "      <td>t</td>\n",
       "      <td>l</td>\n",
       "      <td>f</td>\n",
       "      <td>c</td>\n",
       "      <td>b</td>\n",
       "      <td>n</td>\n",
       "      <td>...</td>\n",
       "      <td>s</td>\n",
       "      <td>w</td>\n",
       "      <td>w</td>\n",
       "      <td>p</td>\n",
       "      <td>w</td>\n",
       "      <td>o</td>\n",
       "      <td>p</td>\n",
       "      <td>n</td>\n",
       "      <td>n</td>\n",
       "      <td>m</td>\n",
       "    </tr>\n",
       "    <tr>\n",
       "      <th>3</th>\n",
       "      <td>p</td>\n",
       "      <td>x</td>\n",
       "      <td>y</td>\n",
       "      <td>w</td>\n",
       "      <td>t</td>\n",
       "      <td>p</td>\n",
       "      <td>f</td>\n",
       "      <td>c</td>\n",
       "      <td>n</td>\n",
       "      <td>n</td>\n",
       "      <td>...</td>\n",
       "      <td>s</td>\n",
       "      <td>w</td>\n",
       "      <td>w</td>\n",
       "      <td>p</td>\n",
       "      <td>w</td>\n",
       "      <td>o</td>\n",
       "      <td>p</td>\n",
       "      <td>k</td>\n",
       "      <td>s</td>\n",
       "      <td>u</td>\n",
       "    </tr>\n",
       "    <tr>\n",
       "      <th>4</th>\n",
       "      <td>e</td>\n",
       "      <td>x</td>\n",
       "      <td>s</td>\n",
       "      <td>g</td>\n",
       "      <td>f</td>\n",
       "      <td>n</td>\n",
       "      <td>f</td>\n",
       "      <td>w</td>\n",
       "      <td>b</td>\n",
       "      <td>k</td>\n",
       "      <td>...</td>\n",
       "      <td>s</td>\n",
       "      <td>w</td>\n",
       "      <td>w</td>\n",
       "      <td>p</td>\n",
       "      <td>w</td>\n",
       "      <td>o</td>\n",
       "      <td>e</td>\n",
       "      <td>n</td>\n",
       "      <td>a</td>\n",
       "      <td>g</td>\n",
       "    </tr>\n",
       "  </tbody>\n",
       "</table>\n",
       "<p>5 rows × 23 columns</p>\n",
       "</div>"
      ],
      "text/plain": [
       "  type cap_shape cap_surface cap_color bruises odor gill_attachment  \\\n",
       "0    p         x           s         n       t    p               f   \n",
       "1    e         x           s         y       t    a               f   \n",
       "2    e         b           s         w       t    l               f   \n",
       "3    p         x           y         w       t    p               f   \n",
       "4    e         x           s         g       f    n               f   \n",
       "\n",
       "  gill_spacing gill_size gill_color  ... stalk_surface_below_ring  \\\n",
       "0            c         n          k  ...                        s   \n",
       "1            c         b          k  ...                        s   \n",
       "2            c         b          n  ...                        s   \n",
       "3            c         n          n  ...                        s   \n",
       "4            w         b          k  ...                        s   \n",
       "\n",
       "  stalk_color_above_ring stalk_color_below_ring veil_type veil_color  \\\n",
       "0                      w                      w         p          w   \n",
       "1                      w                      w         p          w   \n",
       "2                      w                      w         p          w   \n",
       "3                      w                      w         p          w   \n",
       "4                      w                      w         p          w   \n",
       "\n",
       "  ring_number ring_type spore_print_color population habitat  \n",
       "0           o         p                 k          s       u  \n",
       "1           o         p                 n          n       g  \n",
       "2           o         p                 n          n       m  \n",
       "3           o         p                 k          s       u  \n",
       "4           o         e                 n          a       g  \n",
       "\n",
       "[5 rows x 23 columns]"
      ]
     },
     "execution_count": 2,
     "metadata": {},
     "output_type": "execute_result"
    }
   ],
   "source": [
    "df = pd.read_csv('ensemble_data.csv')\n",
    "df.head()"
   ]
  },
  {
   "cell_type": "code",
   "execution_count": 3,
   "metadata": {},
   "outputs": [],
   "source": [
    "Y = df.iloc[:, 0].values\n",
    "X = df\n",
    "X_train, X_test, y_train, y_test = train_test_split(X, Y, test_size=0.2, random_state=100)"
   ]
  },
  {
   "cell_type": "code",
   "execution_count": 4,
   "metadata": {},
   "outputs": [],
   "source": [
    "header = ['Label', 'Text', 'Length', 'Unigram', 'Bigram', 'Trigram']\n",
    "class Question:\n",
    "    def __init__(self, column, value):\n",
    "        self.column = column\n",
    "        self.value = value\n",
    "\n",
    "    def match(self, example):\n",
    "        val = example[self.column]        \n",
    "        return self.value == val\n",
    "\n",
    "    def __repr__(self):\n",
    "        condition = \"contains\"\n",
    "        return \"Does %s %s %s?\" % (\n",
    "            \"Col\" + str(self.column), condition, str(self.value))"
   ]
  },
  {
   "cell_type": "code",
   "execution_count": 5,
   "metadata": {},
   "outputs": [],
   "source": [
    "def class_counts(rows):\n",
    "    counts = {}\n",
    "    for row in rows:\n",
    "        label = row[0]\n",
    "        if label not in counts:\n",
    "            counts[label] = 0\n",
    "        counts[label] += 1\n",
    "    return counts"
   ]
  },
  {
   "cell_type": "code",
   "execution_count": 6,
   "metadata": {},
   "outputs": [],
   "source": [
    "class Leaf:\n",
    "    def __init__(self, rows):\n",
    "        self.predictions = class_counts(rows)"
   ]
  },
  {
   "cell_type": "code",
   "execution_count": 7,
   "metadata": {},
   "outputs": [],
   "source": [
    "class Decision_Node:\n",
    "    def __init__(self,\n",
    "                 question,\n",
    "                 true_branch,\n",
    "                 false_branch):\n",
    "        self.question = question\n",
    "        self.true_branch = true_branch\n",
    "        self.false_branch = false_branch"
   ]
  },
  {
   "cell_type": "code",
   "execution_count": 8,
   "metadata": {},
   "outputs": [],
   "source": [
    "def partition(rows, question):\n",
    "    trueRows = []\n",
    "    falseRows = []\n",
    "    \n",
    "    for r in rows:\n",
    "        if question.match(r):\n",
    "            trueRows.append(r)\n",
    "        else:\n",
    "            falseRows.append(r)\n",
    "    \n",
    "    return trueRows, falseRows"
   ]
  },
  {
   "cell_type": "code",
   "execution_count": 9,
   "metadata": {},
   "outputs": [],
   "source": [
    "def formStump(rows, question):\n",
    "      \n",
    "    trueRows, falseRows = partition(rows, question)  \n",
    "    trueBranch = Leaf(trueRows)\n",
    "    falseBranch = Leaf(falseRows)\n",
    "    \n",
    "    return Decision_Node(question, trueBranch, falseBranch)"
   ]
  },
  {
   "cell_type": "code",
   "execution_count": 10,
   "metadata": {},
   "outputs": [],
   "source": [
    "def classifyRow(node, row):\n",
    "    if isinstance(node, Leaf):\n",
    "        if len(node.predictions) == 0:\n",
    "            return {'p' : 1, 'e' : 0}\n",
    "        return node.predictions\n",
    "    \n",
    "    if node.question.match(row):\n",
    "        return classifyRow(node.true_branch, row)\n",
    "    else:\n",
    "        return classifyRow(node.false_branch, row)"
   ]
  },
  {
   "cell_type": "code",
   "execution_count": 11,
   "metadata": {},
   "outputs": [],
   "source": [
    "def classify(root, rows):\n",
    "    predictions = []\n",
    "    for r in rows:\n",
    "        predictions.append(max(classifyRow(root, r).items(), key=operator.itemgetter(1))[0])\n",
    "    return predictions"
   ]
  },
  {
   "cell_type": "code",
   "execution_count": 12,
   "metadata": {},
   "outputs": [],
   "source": [
    "def getDataInIndex(data, index):\n",
    "    l = []\n",
    "    for i in range(len(data)):\n",
    "        if i in index:\n",
    "            l.append(data[i])\n",
    "    return l"
   ]
  },
  {
   "cell_type": "code",
   "execution_count": 13,
   "metadata": {},
   "outputs": [],
   "source": [
    "def getActualLabels(act_data):\n",
    "    act_labels = []\n",
    "    for d in act_data:\n",
    "        act_labels.append(d[0])\n",
    "    return act_labels"
   ]
  },
  {
   "cell_type": "code",
   "execution_count": 14,
   "metadata": {},
   "outputs": [],
   "source": [
    "def get_unique_vals(X_train, index):\n",
    "    ans = []\n",
    "    for i, r in X_train.iterrows():\n",
    "#         print(r)\n",
    "        ans.append(r[index])\n",
    "    \n",
    "    return set(ans)"
   ]
  },
  {
   "cell_type": "code",
   "execution_count": 15,
   "metadata": {},
   "outputs": [],
   "source": [
    "questions = []\n",
    "\n",
    "for i in range(1, X_train.shape[1]):\n",
    "    unique_vals = get_unique_vals(X_train,int(i))\n",
    "    for val in unique_vals:\n",
    "        questions.append(Question(i,val))"
   ]
  },
  {
   "cell_type": "code",
   "execution_count": 16,
   "metadata": {},
   "outputs": [
    {
     "data": {
      "text/plain": [
       "117"
      ]
     },
     "execution_count": 16,
     "metadata": {},
     "output_type": "execute_result"
    }
   ],
   "source": [
    "len(questions)"
   ]
  },
  {
   "cell_type": "code",
   "execution_count": 17,
   "metadata": {},
   "outputs": [],
   "source": [
    "def getListOfTrees(data, questions):\n",
    "    rootList = []\n",
    "    \n",
    "    for q in questions:\n",
    "        rootList.append(formStump(data, q))\n",
    "    \n",
    "    return rootList"
   ]
  },
  {
   "cell_type": "code",
   "execution_count": 18,
   "metadata": {},
   "outputs": [],
   "source": [
    "def getIncorrectCount(root, data):\n",
    "    count = 0\n",
    "    ic_list = []\n",
    "    \n",
    "    i = 0\n",
    "    for r in data:\n",
    "        label_pred = max(classifyRow(root, r).items(), key=operator.itemgetter(1))[0]\n",
    "        label_act = r[0]\n",
    "        if label_pred != label_act:\n",
    "            count += 1\n",
    "            ic_list.append(i)\n",
    "    \n",
    "        i += 1\n",
    "    \n",
    "    return count, ic_list"
   ]
  },
  {
   "cell_type": "code",
   "execution_count": 19,
   "metadata": {},
   "outputs": [],
   "source": [
    "def getBestTree(rootList, data):\n",
    "    bestRoot = None\n",
    "    incorrectCount = math.inf\n",
    "    incorrectList = []\n",
    "    \n",
    "    for root in rootList:\n",
    "        ic, ic_list = getIncorrectCount(root, data)\n",
    "        \n",
    "        if ic < incorrectCount:\n",
    "            incorrectCount = ic\n",
    "            bestRoot = root\n",
    "            incorrectList = ic_list\n",
    "    \n",
    "    return root, incorrectList"
   ]
  },
  {
   "cell_type": "code",
   "execution_count": 20,
   "metadata": {},
   "outputs": [],
   "source": [
    "def appendWeights(data):\n",
    "    n = len(data)\n",
    "    ans = []\n",
    "    \n",
    "    for r in data:\n",
    "        r.append(1.0 / n)\n",
    "        ans.append(r)\n",
    "    \n",
    "    return ans"
   ]
  },
  {
   "cell_type": "code",
   "execution_count": 21,
   "metadata": {},
   "outputs": [],
   "source": [
    "def calcTotalError(data, ic_index):\n",
    "    s = 0\n",
    "    \n",
    "    for i in ic_index:\n",
    "        s += data[i][-1]\n",
    "            \n",
    "    return s"
   ]
  },
  {
   "cell_type": "code",
   "execution_count": 22,
   "metadata": {},
   "outputs": [],
   "source": [
    "def getSignificance(te):\n",
    "    if te == 0:\n",
    "        return 999999.0\n",
    "    return 0.5 * math.log((1-te) / te)"
   ]
  },
  {
   "cell_type": "code",
   "execution_count": 23,
   "metadata": {},
   "outputs": [],
   "source": [
    "def updateWeights(db_train_weighted, incorrectList, siginficance):\n",
    "    for i in range(len(db_train_weighted)):\n",
    "        if i in incorrectList:\n",
    "            db_train_weighted[i][-1]*= math.exp(siginficance)\n",
    "        else:\n",
    "            db_train_weighted[i][-1]*= math.exp(-siginficance)"
   ]
  },
  {
   "cell_type": "code",
   "execution_count": 24,
   "metadata": {},
   "outputs": [],
   "source": [
    "def update_normalise_col(col, db_train_weighted):\n",
    "    sm = sum(col)\n",
    "    \n",
    "    for r in db_train_weighted:\n",
    "        if sm == 0:\n",
    "            r[-1] = 0\n",
    "        else:\n",
    "            r[-1] /= sm"
   ]
  },
  {
   "cell_type": "code",
   "execution_count": 25,
   "metadata": {},
   "outputs": [],
   "source": [
    "def get_roullete_and_spin(db_train_weighted):\n",
    "    n = len(db_train_weighted)\n",
    "    \n",
    "    db_ind = []\n",
    "    for i in range(len(db_train_weighted)):\n",
    "        d = db_train_weighted[i]\n",
    "        n_ = int(math.floor(d[-1]*n))\n",
    "        for j in range(n_):\n",
    "            db_ind.append(i)\n",
    "    \n",
    "    #SPIN\n",
    "    db = []\n",
    "    \n",
    "    if len(db_ind) == 0:\n",
    "        return db\n",
    "    \n",
    "    for i in range(n):\n",
    "        choice = db_ind[random.randint(0, len(db_ind) - 1)]\n",
    "        db.append(db_train_weighted[choice])\n",
    "        \n",
    "    return db"
   ]
  },
  {
   "cell_type": "code",
   "execution_count": 26,
   "metadata": {},
   "outputs": [],
   "source": [
    "def predict(rootList, significanceList, rows):\n",
    "    \n",
    "    ans = []\n",
    "    \n",
    "    for r in rows:\n",
    "        outresult = {'p' : 0,\n",
    "                'e' : 0}\n",
    "        i = 0\n",
    "        for root in rootList:\n",
    "            pred = max(classifyRow(root, r).items(), key=operator.itemgetter(1))[0]\n",
    "            outresult[pred] += significanceList[i]\n",
    "            i += 1\n",
    "        \n",
    "        ans.append(max(outresult.items(), key=operator.itemgetter(1))[0])\n",
    "    \n",
    "    return ans"
   ]
  },
  {
   "cell_type": "code",
   "execution_count": 27,
   "metadata": {},
   "outputs": [],
   "source": [
    "def Adaboost(no_of_iterations, data, questions):\n",
    "    significanceList = []\n",
    "    rootList = []\n",
    "    db_train_weighted = appendWeights(data)\n",
    "    \n",
    "    \n",
    "    for i in range(no_of_iterations):\n",
    "        l = getListOfTrees(db_train_weighted, questions)\n",
    "        bestTree, incorrectList = getBestTree(l, db_train_weighted)\n",
    "        totalError = calcTotalError(db_train_weighted, incorrectList)\n",
    "        significance = getSignificance(totalError)\n",
    "        \n",
    "        rootList.append(bestTree)\n",
    "        significanceList.append(significance)\n",
    "        \n",
    "        updateWeights(db_train_weighted, incorrectList, significance)\n",
    "        \n",
    "        last_col = [row[-1] for row in db_train_weighted]\n",
    "        update_normalise_col(last_col, db_train_weighted)\n",
    "        \n",
    "        next_database = get_roullete_and_spin(db_train_weighted)\n",
    "        \n",
    "        if len(next_database) == 0:\n",
    "            break\n",
    "        \n",
    "        db_train_weighted = next_database\n",
    "    \n",
    "    return rootList, significanceList"
   ]
  },
  {
   "cell_type": "code",
   "execution_count": 28,
   "metadata": {},
   "outputs": [],
   "source": [
    "db_train = X_train.values.tolist()\n",
    "db_test = X_test.values.tolist()"
   ]
  },
  {
   "cell_type": "code",
   "execution_count": 29,
   "metadata": {},
   "outputs": [
    {
     "name": "stderr",
     "output_type": "stream",
     "text": [
      "/Users/manishkumar/anaconda3/envs/btp_env/lib/python3.7/site-packages/sklearn/metrics/classification.py:1437: UndefinedMetricWarning: Precision is ill-defined and being set to 0.0 in labels with no predicted samples.\n",
      "  'precision', 'predicted', average, warn_for)\n",
      "/Users/manishkumar/anaconda3/envs/btp_env/lib/python3.7/site-packages/sklearn/metrics/classification.py:1437: UndefinedMetricWarning: F-score is ill-defined and being set to 0.0 in labels with no predicted samples.\n",
      "  'precision', 'predicted', average, warn_for)\n"
     ]
    },
    {
     "name": "stdout",
     "output_type": "stream",
     "text": [
      "Training...\n",
      "Training...\n",
      "Training...\n",
      "Training...\n",
      "Training...\n",
      "Precision Score = 0.2601951797240481\n",
      "Recall Score = 0.5\n",
      "F Score = 0.3422160512783737\n",
      "Accuracy = 0.5203903594480962\n"
     ]
    }
   ],
   "source": [
    "kfold = KFold(5, True, 1)\n",
    "precision = []\n",
    "recall = []\n",
    "f_score = []\n",
    "accuracy = []\n",
    "i = 0\n",
    "\n",
    "for trainInd,testInd in kfold.split(db_train):\n",
    "    train_data = getDataInIndex(deepcopy(db_train), trainInd)\n",
    "    test_data = getDataInIndex(deepcopy(db_train), testInd)\n",
    "    \n",
    "    rootl, significancel = Adaboost(3, train_data, questions)\n",
    "    \n",
    "    prediction = predict(rootl, significancel, test_data)\n",
    "        \n",
    "    actual = getActualLabels(test_data)\n",
    "    predicted = prediction\n",
    "    \n",
    "    precision.append(precision_score(actual, predicted, average='macro'))\n",
    "    recall.append(recall_score(actual, predicted, average='macro'))\n",
    "    f_score.append(f1_score(actual, predicted, average='macro'))\n",
    "    accuracy.append(accuracy_score(actual, predicted))\n",
    "     \n",
    "    print(\"Training...\")\n",
    "\n",
    "print(\"Precision Score = \" + str(mean(precision)))\n",
    "print(\"Recall Score = \" + str(mean(recall)))\n",
    "print(\"F Score = \" + str(mean(f_score)))\n",
    "print(\"Accuracy = \" + str(mean(accuracy)))"
   ]
  },
  {
   "cell_type": "code",
   "execution_count": null,
   "metadata": {},
   "outputs": [],
   "source": []
  }
 ],
 "metadata": {
  "kernelspec": {
   "display_name": "Python 3",
   "language": "python",
   "name": "python3"
  },
  "language_info": {
   "codemirror_mode": {
    "name": "ipython",
    "version": 3
   },
   "file_extension": ".py",
   "mimetype": "text/x-python",
   "name": "python",
   "nbconvert_exporter": "python",
   "pygments_lexer": "ipython3",
   "version": "3.7.5"
  }
 },
 "nbformat": 4,
 "nbformat_minor": 2
}
