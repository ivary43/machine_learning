{
 "cells": [
  {
   "cell_type": "code",
   "execution_count": 18,
   "metadata": {},
   "outputs": [],
   "source": [
    "import numpy as np\n",
    "import pandas as pd\n",
    "import matplotlib.pyplot as plt\n",
    "from collections import defaultdict"
   ]
  },
  {
   "cell_type": "code",
   "execution_count": 19,
   "metadata": {},
   "outputs": [],
   "source": [
    "def extract(w):\n",
    "    i = -1\n",
    "    for idx, c in enumerate(w):\n",
    "        if c == \"/\":\n",
    "            i = idx\n",
    "    return [w[:i], w[i+1:]]"
   ]
  },
  {
   "cell_type": "code",
   "execution_count": 33,
   "metadata": {},
   "outputs": [],
   "source": [
    "file = open('Brown_train.txt')\n",
    "emissions = defaultdict(int)\n",
    "tag_counts = defaultdict(int)\n",
    "trigram_counts = defaultdict(int)\n",
    "bigram_counts = defaultdict(int)\n",
    "s_tags = set()\n",
    "X = []\n",
    "y = []\n",
    "\n",
    "for l in file:\n",
    "    word_tags = l.split()\n",
    "    word_tags = [\"*/*\", \"*/*\"] + word_tags\n",
    "    tags = []\n",
    "    s = []\n",
    "    \n",
    "    for w in word_tags:\n",
    "        try:\n",
    "            w, t = w.split(\"/\")\n",
    "        except:\n",
    "            w, t = extract(w)      \n",
    "        emissions[w.lower()+t] += 1\n",
    "        tag_counts[t] += 1\n",
    "        tags.append(t)\n",
    "        s_tags.add(t)\n",
    "        s.append(w)\n",
    "        \n",
    "    y.append(tags)\n",
    "    X.append(s)\n",
    "    \n",
    "    for i, t in enumerate(tags):\n",
    "        if i+2 < len(tags):\n",
    "            trigram_counts[tags[i]+tags[i+1]+tags[i+2]] += 1\n",
    "        if i+1 < len(tags):\n",
    "            bigram_counts[tags[i]+tags[i+1]] += 1"
   ]
  },
  {
   "cell_type": "code",
   "execution_count": 35,
   "metadata": {},
   "outputs": [],
   "source": [
    "tags = s_tags\n",
    "vocab_size = len(tags)\n",
    "pi = defaultdict(lambda: defaultdict(int))\n",
    "ws = defaultdict(lambda: defaultdict(lambda: \"\"))\n",
    "pi[0][\"**\"] = 1\n",
    "lam = 0.2"
   ]
  },
  {
   "cell_type": "code",
   "execution_count": 36,
   "metadata": {},
   "outputs": [],
   "source": [
    "def q(v, w, u):\n",
    "    try: \n",
    "        ans = (trigram_counts[w+u+v] + lam) / (bigram_counts[w+u] + lam * vocab_size)\n",
    "    except:\n",
    "        ans = 0\n",
    "    return ans"
   ]
  },
  {
   "cell_type": "code",
   "execution_count": 37,
   "metadata": {},
   "outputs": [],
   "source": [
    "def e(xk, v):\n",
    "    return (emissions[xk.lower()+v] + lam) / (tag_counts[v] + lam * vocab_size)"
   ]
  },
  {
   "cell_type": "code",
   "execution_count": 38,
   "metadata": {},
   "outputs": [],
   "source": [
    "def viterbi(sentence):\n",
    "    n = len(sentence)\n",
    "    max_pair = [None, 0]\n",
    "    \n",
    "    for k in range(1,n+1):\n",
    "        for u in tags:\n",
    "            for v in tags:\n",
    "                max_w = None\n",
    "                temp = 0\n",
    "                for w in tags:\n",
    "                    temp = pi[k-1][w+u] * q(v, w, u) * e(sentence[k-1], v)\n",
    "                    if pi[k][u+v] < temp or max_w is None:\n",
    "                        pi[k][u+v] = temp\n",
    "                        max_w = w\n",
    "                        \n",
    "                ws[k][u+v] = max_w\n",
    "                \n",
    "        if k == n:\n",
    "            if max_pair[0] is None or max_pair[1] < pi[n][u+v] * q(\".\", u, v):\n",
    "                max_pair = [[u, v], pi[n][u+v] * q(\".\", u, v)]\n",
    "            \n",
    "            \n",
    "    print(max_pair[0])\n",
    "    answer = [*max_pair[0]]\n",
    "    answer.reverse()\n",
    "    for k in range(n-1, 0, -1):\n",
    "        t = ws[k][answer[-1]+answer[-2]]\n",
    "        answer.append(t)\n",
    "  \n",
    "    answer.reverse()\n",
    "    return answer"
   ]
  },
  {
   "cell_type": "code",
   "execution_count": 39,
   "metadata": {},
   "outputs": [
    {
     "name": "stdout",
     "output_type": "stream",
     "text": [
      "['*', '*']\n"
     ]
    }
   ],
   "source": [
    "l = viterbi(X[0])"
   ]
  },
  {
   "cell_type": "code",
   "execution_count": 40,
   "metadata": {},
   "outputs": [
    {
     "data": {
      "text/plain": [
       "(['*',\n",
       "  '*',\n",
       "  'X',\n",
       "  '*',\n",
       "  'ADP',\n",
       "  'DET',\n",
       "  'NOUN',\n",
       "  'X',\n",
       "  'X',\n",
       "  'X',\n",
       "  'X',\n",
       "  'CONJ',\n",
       "  'X',\n",
       "  'X',\n",
       "  'PRT',\n",
       "  'X',\n",
       "  '*',\n",
       "  '*'],\n",
       " ['*',\n",
       "  '*',\n",
       "  'ADP',\n",
       "  'DET',\n",
       "  'NOUN',\n",
       "  'NOUN',\n",
       "  'NOUN',\n",
       "  'VERB',\n",
       "  'ADJ',\n",
       "  'CONJ',\n",
       "  'ADJ',\n",
       "  'NOUN',\n",
       "  'PRT',\n",
       "  'VERB',\n",
       "  'DET',\n",
       "  'NOUN',\n",
       "  '.'])"
      ]
     },
     "execution_count": 40,
     "metadata": {},
     "output_type": "execute_result"
    }
   ],
   "source": [
    "l, y[0]"
   ]
  },
  {
   "cell_type": "code",
   "execution_count": 41,
   "metadata": {},
   "outputs": [
    {
     "name": "stdout",
     "output_type": "stream",
     "text": [
      "* * At that time highway engineers traveled rough and dirty roads to accomplish their duties .\n",
      "* * ADP DET NOUN NOUN NOUN VERB ADJ CONJ ADJ NOUN PRT VERB DET NOUN .\n",
      "* * X * ADP DET NOUN X X X X CONJ X X PRT X * *\n"
     ]
    }
   ],
   "source": [
    "print(\" \".join(X[0]))\n",
    "print(\" \".join(y[0]))\n",
    "print(\" \".join(l))"
   ]
  },
  {
   "cell_type": "code",
   "execution_count": null,
   "metadata": {},
   "outputs": [],
   "source": []
  }
 ],
 "metadata": {
  "kernelspec": {
   "display_name": "Python 3",
   "language": "python",
   "name": "python3"
  },
  "language_info": {
   "codemirror_mode": {
    "name": "ipython",
    "version": 3
   },
   "file_extension": ".py",
   "mimetype": "text/x-python",
   "name": "python",
   "nbconvert_exporter": "python",
   "pygments_lexer": "ipython3",
   "version": "3.7.4"
  }
 },
 "nbformat": 4,
 "nbformat_minor": 2
}
