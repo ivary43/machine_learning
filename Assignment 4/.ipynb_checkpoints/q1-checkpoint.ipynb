{
 "cells": [
  {
   "cell_type": "code",
   "execution_count": 1,
   "metadata": {},
   "outputs": [],
   "source": [
    "import numpy as np\n",
    "import pandas as pd\n",
    "import matplotlib.pyplot as plt\n",
    "from collections import defaultdict\n",
    "from sklearn.model_selection import train_test_split"
   ]
  },
  {
   "cell_type": "code",
   "execution_count": 2,
   "metadata": {},
   "outputs": [],
   "source": [
    "def isNumeric(x):\n",
    "    return x.isnumeric()"
   ]
  },
  {
   "cell_type": "code",
   "execution_count": 3,
   "metadata": {},
   "outputs": [],
   "source": [
    "def getAllCapsInd(data):\n",
    "    for i in range(len(data)):\n",
    "        d = data[i]\n",
    "        \n",
    "        if allCaps(d):\n",
    "            return i\n",
    "    return 0"
   ]
  },
  {
   "cell_type": "code",
   "execution_count": 4,
   "metadata": {},
   "outputs": [],
   "source": [
    "def getQ(v, w, u):\n",
    "     return (trigram_counts[' '.join([w, u, v])] + lam) / (bigram_counts[' '.join([w, u])] + lam * vocab_size)"
   ]
  },
  {
   "cell_type": "code",
   "execution_count": 5,
   "metadata": {},
   "outputs": [],
   "source": [
    "def getE(x, v):\n",
    "    return (emissions[' '.join([x.lower(), v])] + lam) / (tag_counts[v] + lam * vocab_size)"
   ]
  },
  {
   "cell_type": "code",
   "execution_count": 6,
   "metadata": {},
   "outputs": [],
   "source": [
    "file = open('Brown_train.txt')\n",
    "\n",
    "X = []\n",
    "y = []\n",
    "\n",
    "for line in file:\n",
    "    \n",
    "    line = line.rstrip()\n",
    "    temp_line = line.split(' ')\n",
    "    temp_sent_db = ['*', '*']\n",
    "    temp_tag_db = ['*', '*']\n",
    "    \n",
    "    for word in temp_line:\n",
    "        temp_word = word.split('/')        \n",
    "        temp_sent_db.append(\"\".join(temp_word[0:-1]).lower())    \n",
    "        temp_tag_db.append(temp_word[-1])\n",
    "    \n",
    "    X.append(temp_sent_db)\n",
    "    y.append(temp_tag_db)"
   ]
  },
  {
   "cell_type": "code",
   "execution_count": 7,
   "metadata": {},
   "outputs": [],
   "source": [
    "X_train, X_test, y_train, y_test = train_test_split(X, y, test_size=0.2, random_state=18)"
   ]
  },
  {
   "cell_type": "code",
   "execution_count": 8,
   "metadata": {},
   "outputs": [],
   "source": [
    "emissions = defaultdict(int)\n",
    "tag_counts = defaultdict(int)\n",
    "trigram_counts = defaultdict(int)\n",
    "bigram_counts = defaultdict(int)\n",
    "s_tags = []\n",
    "\n",
    "\n",
    "for i in range(len(X_train)):\n",
    "    temp_sent_db = X_train[i]\n",
    "    temp_tag_db = y_train[i]\n",
    "    \n",
    "    for i in range(len(temp_sent_db)):\n",
    "        emissions[' '.join([temp_sent_db[i], temp_tag_db[i]])]+=1\n",
    "        tag_counts[temp_tag_db[i]]+=1\n",
    "        s_tags.append(temp_tag_db[i])\n",
    "\n",
    "    \n",
    "    for i, t in enumerate(temp_tag_db):\n",
    "        if i+2 < len(temp_tag_db):\n",
    "            trigram_counts[' '.join([temp_tag_db[i], temp_tag_db[i+1], temp_tag_db[i+2]])] += 1\n",
    "        if i+1 < len(temp_tag_db):\n",
    "            bigram_counts[' '.join([temp_tag_db[i], temp_tag_db[i+1]])] += 1"
   ]
  },
  {
   "cell_type": "code",
   "execution_count": 9,
   "metadata": {},
   "outputs": [],
   "source": [
    "tags = set(s_tags)\n",
    "vocab_size = len(tags)\n",
    "lam = 0.25"
   ]
  },
  {
   "cell_type": "code",
   "execution_count": 10,
   "metadata": {},
   "outputs": [
    {
     "data": {
      "text/plain": [
       "{'*',\n",
       " '.',\n",
       " 'ADJ',\n",
       " 'ADP',\n",
       " 'ADV',\n",
       " 'CONJ',\n",
       " 'DET',\n",
       " 'NOUN',\n",
       " 'NUM',\n",
       " 'PRON',\n",
       " 'PRT',\n",
       " 'VERB',\n",
       " 'X'}"
      ]
     },
     "execution_count": 10,
     "metadata": {},
     "output_type": "execute_result"
    }
   ],
   "source": [
    "tags"
   ]
  },
  {
   "cell_type": "code",
   "execution_count": 11,
   "metadata": {},
   "outputs": [],
   "source": [
    "def applyViterbi(sentence):\n",
    "    pi = defaultdict(lambda: defaultdict(int))\n",
    "    ws = defaultdict(lambda: defaultdict(lambda: \"\"))\n",
    "    pi[0][\"* *\"] = 1\n",
    "    \n",
    "    n = len(sentence)\n",
    "    max_pair = [None, 0]\n",
    "    \n",
    "    for k in range(1, n+1):\n",
    "        \n",
    "        for u in tags:\n",
    "            \n",
    "            for v in tags:\n",
    "                max_w = None\n",
    "                temp = 0\n",
    "                \n",
    "                for w in tags:       \n",
    "                    temp = pi[k-1][w + ' ' + u] * getQ(v, w, u) * getE(sentence[k-1], v)\n",
    "                    \n",
    "                    if pi[k][u + \" \" + v] < temp or max_w is None:\n",
    "                        pi[k][u + \" \" + v] = temp\n",
    "                        max_w = w\n",
    "                        \n",
    "                ws[k][u + \" \" + v] = max_w\n",
    "        \n",
    "        if k == n:\n",
    "            qValue = getQ(\".\", u, v)\n",
    "            if max_pair[0] is None or max_pair[1] < pi[n][u + \" \" + v] * qValue:\n",
    "                max_pair = [[u, v], pi[n][u + \" \" + v] * qValue]\n",
    "            \n",
    "            \n",
    "    answer = [*max_pair[0]]\n",
    "    answer.reverse()\n",
    "    for k in range(n-1, 0, -1):\n",
    "        t = ws[k][answer[-1] + \" \" + answer[-2]]\n",
    "        answer.append(t)\n",
    "  \n",
    "    answer.reverse()\n",
    "    return answer"
   ]
  },
  {
   "cell_type": "code",
   "execution_count": 12,
   "metadata": {
    "scrolled": true
   },
   "outputs": [],
   "source": [
    "l = applyViterbi(X[0])"
   ]
  },
  {
   "cell_type": "code",
   "execution_count": 13,
   "metadata": {},
   "outputs": [
    {
     "data": {
      "text/plain": [
       "(['*',\n",
       "  '*',\n",
       "  'X',\n",
       "  '*',\n",
       "  'ADP',\n",
       "  'DET',\n",
       "  'NOUN',\n",
       "  'NOUN',\n",
       "  'NOUN',\n",
       "  'VERB',\n",
       "  'ADJ',\n",
       "  'CONJ',\n",
       "  'ADJ',\n",
       "  'NOUN',\n",
       "  'PRT',\n",
       "  'VERB',\n",
       "  'PRON',\n",
       "  'PRON'],\n",
       " ['*',\n",
       "  '*',\n",
       "  'ADP',\n",
       "  'DET',\n",
       "  'NOUN',\n",
       "  'NOUN',\n",
       "  'NOUN',\n",
       "  'VERB',\n",
       "  'ADJ',\n",
       "  'CONJ',\n",
       "  'ADJ',\n",
       "  'NOUN',\n",
       "  'PRT',\n",
       "  'VERB',\n",
       "  'DET',\n",
       "  'NOUN',\n",
       "  '.'])"
      ]
     },
     "execution_count": 13,
     "metadata": {},
     "output_type": "execute_result"
    }
   ],
   "source": [
    "l, y[0]"
   ]
  },
  {
   "cell_type": "code",
   "execution_count": 14,
   "metadata": {},
   "outputs": [],
   "source": [
    "tagwise_correct_wrong_counts = {}\n",
    "for t in tags:\n",
    "    tagwise_correct_wrong_counts[t] = [0, 0]"
   ]
  },
  {
   "cell_type": "code",
   "execution_count": 15,
   "metadata": {},
   "outputs": [
    {
     "data": {
      "text/plain": [
       "5499"
      ]
     },
     "execution_count": 15,
     "metadata": {},
     "output_type": "execute_result"
    }
   ],
   "source": [
    "len(X_test)"
   ]
  },
  {
   "cell_type": "code",
   "execution_count": 16,
   "metadata": {},
   "outputs": [
    {
     "name": "stdout",
     "output_type": "stream",
     "text": [
      "0\n",
      "100\n",
      "200\n",
      "300\n",
      "400\n",
      "500\n",
      "600\n",
      "700\n",
      "800\n",
      "900\n",
      "1000\n",
      "1100\n",
      "1200\n",
      "1300\n",
      "1400\n",
      "1500\n",
      "1600\n",
      "1700\n",
      "1800\n",
      "1900\n",
      "2000\n",
      "2100\n",
      "2200\n",
      "2300\n",
      "2400\n",
      "2500\n",
      "2600\n",
      "2700\n",
      "2800\n",
      "2900\n",
      "3000\n",
      "3100\n",
      "3200\n",
      "3300\n",
      "3400\n",
      "3500\n",
      "3600\n",
      "3700\n",
      "3800\n",
      "3900\n",
      "4000\n",
      "4100\n",
      "4200\n",
      "4300\n",
      "4400\n",
      "4500\n",
      "4600\n",
      "4700\n",
      "4800\n",
      "4900\n",
      "5000\n",
      "5100\n",
      "5200\n",
      "5300\n",
      "5400\n"
     ]
    }
   ],
   "source": [
    "y_pred = []\n",
    "z = 0\n",
    "for s in X_test:\n",
    "    y_pred.append(applyViterbi(s))\n",
    "    if z % 100 == 0:\n",
    "        print(z)\n",
    "    z += 1"
   ]
  },
  {
   "cell_type": "code",
   "execution_count": 17,
   "metadata": {},
   "outputs": [
    {
     "data": {
      "text/plain": [
       "{'ADP': 0.06747862924578259,\n",
       " 'PRT': 0.041392285983066796,\n",
       " '.': 0.05596833553225471,\n",
       " 'ADV': 0.04526449736411561,\n",
       " 'ADJ': 0.03814562160657107,\n",
       " 'VERB': 0.12719176175897579,\n",
       " 'DET': 0.020172454710861484,\n",
       " 'NOUN': 0.10238429172510519,\n",
       " 'NUM': 0.08603667136812412,\n",
       " 'CONJ': 0.014632799558255107,\n",
       " '*': 1.0,\n",
       " 'X': 0.27722772277227725,\n",
       " 'PRON': 0.07051857168490938}"
      ]
     },
     "execution_count": 17,
     "metadata": {},
     "output_type": "execute_result"
    }
   ],
   "source": [
    "for i in range(len(y_pred)):\n",
    "    p = y_pred[i]\n",
    "    r = y_test[i]\n",
    "    \n",
    "    for j in range(len(r)):\n",
    "        tagwise_correct_wrong_counts[r[j]][1] += 1\n",
    "        if r[j] == p[j]:\n",
    "            tagwise_correct_wrong_counts[r[j]][0] += 1\n",
    "            \n",
    "for k in tagwise_correct_wrong_counts:\n",
    "    if tagwise_correct_wrong_counts[k][1] == 0:\n",
    "        tagwise_correct_wrong_counts[k] = 'NA'\n",
    "    else:\n",
    "        tagwise_correct_wrong_counts[k] = tagwise_correct_wrong_counts[k][0] / tagwise_correct_wrong_counts[k][1]\n",
    "\n",
    "tagwise_correct_wrong_counts"
   ]
  },
  {
   "cell_type": "code",
   "execution_count": null,
   "metadata": {},
   "outputs": [],
   "source": []
  }
 ],
 "metadata": {
  "kernelspec": {
   "display_name": "Python 3",
   "language": "python",
   "name": "python3"
  },
  "language_info": {
   "codemirror_mode": {
    "name": "ipython",
    "version": 3
   },
   "file_extension": ".py",
   "mimetype": "text/x-python",
   "name": "python",
   "nbconvert_exporter": "python",
   "pygments_lexer": "ipython3",
   "version": "3.5.6"
  }
 },
 "nbformat": 4,
 "nbformat_minor": 2
}
